{
 "cells": [
  {
   "cell_type": "code",
   "execution_count": 1,
   "id": "3097e29e",
   "metadata": {},
   "outputs": [],
   "source": [
    "from tokenization_baichuan import BaichuanTokenizer"
   ]
  },
  {
   "cell_type": "code",
   "execution_count": 8,
   "id": "c58fb189",
   "metadata": {},
   "outputs": [],
   "source": [
    "original = BaichuanTokenizer.from_pretrained(\".\")"
   ]
  },
  {
   "cell_type": "markdown",
   "id": "97a649ed",
   "metadata": {},
   "source": [
    "The original tokenizer code looks a lot like the original Llama/CodeLlama tokenizer, let's try that."
   ]
  },
  {
   "cell_type": "code",
   "execution_count": 63,
   "id": "e4b74e39",
   "metadata": {},
   "outputs": [],
   "source": [
    "from transformers.convert_slow_tokenizer import SpmConverter, LlamaConverter, GemmaConverter, _get_prepend_scheme\n",
    "from tokenizers import decoders, normalizers, pre_tokenizers, processors"
   ]
  },
  {
   "cell_type": "code",
   "execution_count": 393,
   "id": "749040cd",
   "metadata": {},
   "outputs": [],
   "source": [
    "class BaichuanConverter(SpmConverter):\n",
    "    handle_byte_fallback = True\n",
    "\n",
    "    def vocab(self, proto):\n",
    "        vocab = [\n",
    "            (self.original_tokenizer.convert_ids_to_tokens(0), 0.0),\n",
    "            (self.original_tokenizer.convert_ids_to_tokens(1), 0.0),\n",
    "            (self.original_tokenizer.convert_ids_to_tokens(2), 0.0),\n",
    "        ]\n",
    "        vocab += [(piece.piece, piece.score) for piece in proto.pieces[3:]]\n",
    "        return vocab\n",
    "\n",
    "    def unk_id(self, proto):\n",
    "        unk_id = 0\n",
    "        return unk_id\n",
    "\n",
    "    def decoder(self, replacement, add_prefix_space):\n",
    "        sequence = [\n",
    "            decoders.Replace(\"▁\", \" \"),\n",
    "            decoders.ByteFallback(),\n",
    "            decoders.Fuse(),\n",
    "        ]\n",
    "        return decoders.Sequence(sequence)\n",
    "\n",
    "    def normalizer(self, proto):\n",
    "#         return normalizers.Sequence([\n",
    "#             normalizers.Prepend(prepend=\"▁\"),\n",
    "#             normalizers.Replace(pattern=\" \", content=\"▁\"),\n",
    "#         ])\n",
    "        return normalizers.Replace(pattern=\" \", content=\"▁\")\n",
    "\n",
    "    def pre_tokenizer(self, replacement, add_prefix_space):\n",
    "        return None\n",
    "    \n",
    "#         prepend_scheme = \"never\"\n",
    "#         return pre_tokenizers.Metaspace(replacement=replacement, prepend_scheme=prepend_scheme, split=False)\n",
    "\n",
    "    def post_processor(self):\n",
    "        # the processor is defined in the LlamaTokenizerFast class.\n",
    "        return None\n"
   ]
  },
  {
   "cell_type": "code",
   "execution_count": 394,
   "id": "ee0e3ea8",
   "metadata": {},
   "outputs": [],
   "source": [
    "converter = BaichuanConverter(original_tokenizer)"
   ]
  },
  {
   "cell_type": "code",
   "execution_count": 395,
   "id": "7d1cf9ec",
   "metadata": {},
   "outputs": [],
   "source": [
    "converted = converter.converted()"
   ]
  },
  {
   "cell_type": "code",
   "execution_count": 396,
   "id": "8320c230",
   "metadata": {},
   "outputs": [],
   "source": [
    "from transformers import PreTrainedTokenizerFast\n",
    "\n",
    "t_fast = PreTrainedTokenizerFast(\n",
    "    tokenizer_object=converted,\n",
    "    model_input_names=original.model_input_names,\n",
    "    model_max_length=32768,\n",
    "    clean_up_tokenization_spaces=False,\n",
    ")"
   ]
  },
  {
   "cell_type": "code",
   "execution_count": 397,
   "id": "6f80f4fe",
   "metadata": {},
   "outputs": [
    {
     "data": {
      "text/plain": [
       "[133035]"
      ]
     },
     "execution_count": 397,
     "metadata": {},
     "output_type": "execute_result"
    }
   ],
   "source": [
    "original.encode(\" {\\n\")"
   ]
  },
  {
   "cell_type": "code",
   "execution_count": 398,
   "id": "84d3bf49",
   "metadata": {},
   "outputs": [
    {
     "data": {
      "text/plain": [
       "[124108, 133081]"
      ]
     },
     "execution_count": 398,
     "metadata": {},
     "output_type": "execute_result"
    }
   ],
   "source": [
    "t_fast.encode(\" {\\n\")"
   ]
  },
  {
   "cell_type": "code",
   "execution_count": 386,
   "id": "daeac9b8",
   "metadata": {},
   "outputs": [
    {
     "data": {
      "text/plain": [
       "'{\\n'"
      ]
     },
     "execution_count": 386,
     "metadata": {},
     "output_type": "execute_result"
    }
   ],
   "source": [
    "original.decode([133081])"
   ]
  },
  {
   "cell_type": "code",
   "execution_count": 387,
   "id": "67432b18",
   "metadata": {},
   "outputs": [
    {
     "data": {
      "text/plain": [
       "[18632]"
      ]
     },
     "execution_count": 387,
     "metadata": {},
     "output_type": "execute_result"
    }
   ],
   "source": [
    "original.encode(\"hello\")"
   ]
  },
  {
   "cell_type": "code",
   "execution_count": 388,
   "id": "9768c335",
   "metadata": {},
   "outputs": [
    {
     "data": {
      "text/plain": [
       "[18632]"
      ]
     },
     "execution_count": 388,
     "metadata": {},
     "output_type": "execute_result"
    }
   ],
   "source": [
    "t_fast.encode(\"hello\")"
   ]
  },
  {
   "cell_type": "code",
   "execution_count": 389,
   "id": "f3330d8d",
   "metadata": {},
   "outputs": [
    {
     "data": {
      "text/plain": [
       "'hello'"
      ]
     },
     "execution_count": 389,
     "metadata": {},
     "output_type": "execute_result"
    }
   ],
   "source": [
    "original.decode([18632])"
   ]
  },
  {
   "cell_type": "code",
   "execution_count": 390,
   "id": "032ef30b",
   "metadata": {},
   "outputs": [
    {
     "data": {
      "text/plain": [
       "' hello'"
      ]
     },
     "execution_count": 390,
     "metadata": {},
     "output_type": "execute_result"
    }
   ],
   "source": [
    "t_fast.decode([30109])"
   ]
  },
  {
   "cell_type": "code",
   "execution_count": 391,
   "id": "d28e2da6",
   "metadata": {},
   "outputs": [
    {
     "data": {
      "text/plain": [
       "'hello'"
      ]
     },
     "execution_count": 391,
     "metadata": {},
     "output_type": "execute_result"
    }
   ],
   "source": [
    "t_fast.decode([18632])"
   ]
  },
  {
   "cell_type": "code",
   "execution_count": 392,
   "id": "c993f4ab",
   "metadata": {},
   "outputs": [
    {
     "data": {
      "text/plain": [
       "' hello'"
      ]
     },
     "execution_count": 392,
     "metadata": {},
     "output_type": "execute_result"
    }
   ],
   "source": [
    "original.decode([30109])"
   ]
  },
  {
   "cell_type": "markdown",
   "id": "803704dc",
   "metadata": {},
   "source": [
    "Testing on xnli"
   ]
  },
  {
   "cell_type": "code",
   "execution_count": 144,
   "id": "2893eac2",
   "metadata": {},
   "outputs": [],
   "source": [
    "from datasets import load_dataset\n",
    "from tqdm import tqdm"
   ]
  },
  {
   "cell_type": "code",
   "execution_count": 145,
   "id": "cbaca8bf",
   "metadata": {},
   "outputs": [],
   "source": [
    "xnli = load_dataset(\"xnli\", \"all_languages\", split=\"validation\")"
   ]
  },
  {
   "cell_type": "code",
   "execution_count": 146,
   "id": "dd549c8c",
   "metadata": {},
   "outputs": [],
   "source": [
    "def verify(lang, text):\n",
    "    encoded_original = original.encode(text)\n",
    "    encoded_fast = t_fast.encode(text)\n",
    "    assert encoded_fast == encoded_original, f\"Fast encode error: {lang} - {text}\"\n",
    "    decoded = original.decode(encoded_original)\n",
    "    decoded_fast = t_fast.decode(encoded_fast, skip_special_tokens=True)\n",
    "    assert decoded_fast == decoded, f\"Fast decode error: {lang} - {text}\""
   ]
  },
  {
   "cell_type": "code",
   "execution_count": 383,
   "id": "54a6cae9",
   "metadata": {},
   "outputs": [
    {
     "name": "stderr",
     "output_type": "stream",
     "text": [
      "100%|██████████████████████████████████████████████████████████████████████████████████████████████████████████████████████████████████████████████████████████████████████| 2490/2490 [00:28<00:00, 86.78it/s]\n"
     ]
    }
   ],
   "source": [
    "for p in tqdm(xnli[\"premise\"]):\n",
    "    for lang, text in p.items():\n",
    "        verify(lang, text)"
   ]
  },
  {
   "cell_type": "markdown",
   "id": "e4fd53e8",
   "metadata": {},
   "source": [
    "Testing on codeparrot"
   ]
  },
  {
   "cell_type": "code",
   "execution_count": 159,
   "id": "77a6d68a",
   "metadata": {},
   "outputs": [
    {
     "data": {
      "application/vnd.jupyter.widget-view+json": {
       "model_id": "6ff7cf2b5e7445d1b9ace117c905a267",
       "version_major": 2,
       "version_minor": 0
      },
      "text/plain": [
       "README.md: 0.00B [00:00, ?B/s]"
      ]
     },
     "metadata": {},
     "output_type": "display_data"
    },
    {
     "data": {
      "application/vnd.jupyter.widget-view+json": {
       "model_id": "a0ef4cd5b6de4de1b7ef31340768d332",
       "version_major": 2,
       "version_minor": 0
      },
      "text/plain": [
       "github-code.py: 0.00B [00:00, ?B/s]"
      ]
     },
     "metadata": {},
     "output_type": "display_data"
    }
   ],
   "source": [
    "ds = load_dataset(\"codeparrot/github-code\", streaming=True, trust_remote_code=True, split=\"train\")"
   ]
  },
  {
   "cell_type": "code",
   "execution_count": 160,
   "id": "c81bbcf8",
   "metadata": {},
   "outputs": [
    {
     "name": "stderr",
     "output_type": "stream",
     "text": [
      "  0%|                                                                                                                                                                                 | 0/1000 [00:02<?, ?it/s]\n"
     ]
    },
    {
     "ename": "AssertionError",
     "evalue": "Fast encode error: JavaScript - 'use strict';\n\nvar clear          = require('es5-ext/array/#/clear')\n  , eIndexOf       = require('es5-ext/array/#/e-index-of')\n  , setPrototypeOf = require('es5-ext/object/set-prototype-of')\n  , callable       = require('es5-ext/object/valid-callable')\n  , d              = require('d')\n  , ee             = require('event-emitter')\n  , Symbol         = require('es6-symbol')\n  , iterator       = require('es6-iterator/valid-iterable')\n  , forOf          = require('es6-iterator/for-of')\n  , Iterator       = require('./lib/iterator')\n  , isNative       = require('./is-native-implemented')\n\n  , call = Function.prototype.call, defineProperty = Object.defineProperty\n  , SetPoly, getValues;\n\nmodule.exports = SetPoly = function (/*iterable*/) {\n\tvar iterable = arguments[0];\n\tif (!(this instanceof SetPoly)) return new SetPoly(iterable);\n\tif (this.__setData__ !== undefined) {\n\t\tthrow new TypeError(this + \" cannot be reinitialized\");\n\t}\n\tif (iterable != null) iterator(iterable);\n\tdefineProperty(this, '__setData__', d('c', []));\n\tif (!iterable) return;\n\tforOf(iterable, function (value) {\n\t\tif (eIndexOf.call(this, value) !== -1) return;\n\t\tthis.push(value);\n\t}, this.__setData__);\n};\n\nif (isNative) {\n\tif (setPrototypeOf) setPrototypeOf(SetPoly, Set);\n\tSetPoly.prototype = Object.create(Set.prototype, {\n\t\tconstructor: d(SetPoly)\n\t});\n}\n\nee(Object.defineProperties(SetPoly.prototype, {\n\tadd: d(function (value) {\n\t\tif (this.has(value)) return this;\n\t\tthis.emit('_add', this.__setData__.push(value) - 1, value);\n\t\treturn this;\n\t}),\n\tclear: d(function () {\n\t\tif (!this.__setData__.length) return;\n\t\tclear.call(this.__setData__);\n\t\tthis.emit('_clear');\n\t}),\n\tdelete: d(function (value) {\n\t\tvar index = eIndexOf.call(this.__setData__, value);\n\t\tif (index === -1) return false;\n\t\tthis.__setData__.splice(index, 1);\n\t\tthis.emit('_delete', index, value);\n\t\treturn true;\n\t}),\n\tentries: d(function () { return new Iterator(this, 'key+value'); }),\n\tforEach: d(function (cb/*, thisArg*/) {\n\t\tvar thisArg = arguments[1], iterator, result, value;\n\t\tcallable(cb);\n\t\titerator = this.values();\n\t\tresult = iterator._next();\n\t\twhile (result !== undefined) {\n\t\t\tvalue = iterator._resolve(result);\n\t\t\tcall.call(cb, thisArg, value, value, this);\n\t\t\tresult = iterator._next();\n\t\t}\n\t}),\n\thas: d(function (value) {\n\t\treturn (eIndexOf.call(this.__setData__, value) !== -1);\n\t}),\n\tkeys: d(getValues = function () { return this.values(); }),\n\tsize: d.gs(function () { return this.__setData__.length; }),\n\tvalues: d(function () { return new Iterator(this); }),\n\ttoString: d(function () { return '[object Set]'; })\n}));\ndefineProperty(SetPoly.prototype, Symbol.iterator, d(getValues));\ndefineProperty(SetPoly.prototype, Symbol.toStringTag, d('c', 'Set'));\n",
     "output_type": "error",
     "traceback": [
      "\u001b[0;31m---------------------------------------------------------------------------\u001b[0m",
      "\u001b[0;31mAssertionError\u001b[0m                            Traceback (most recent call last)",
      "Cell \u001b[0;32mIn[160], line 10\u001b[0m\n\u001b[1;32m      8\u001b[0m     skipped \u001b[38;5;241m+\u001b[39m\u001b[38;5;241m=\u001b[39m \u001b[38;5;241m1\u001b[39m\n\u001b[1;32m      9\u001b[0m     \u001b[38;5;28;01mcontinue\u001b[39;00m\n\u001b[0;32m---> 10\u001b[0m \u001b[43mverify\u001b[49m\u001b[43m(\u001b[49m\u001b[43mlang\u001b[49m\u001b[43m,\u001b[49m\u001b[43m \u001b[49m\u001b[43mcode\u001b[49m\u001b[43m)\u001b[49m\n",
      "Cell \u001b[0;32mIn[146], line 4\u001b[0m, in \u001b[0;36mverify\u001b[0;34m(lang, text)\u001b[0m\n\u001b[1;32m      2\u001b[0m encoded_original \u001b[38;5;241m=\u001b[39m original\u001b[38;5;241m.\u001b[39mencode(text)\n\u001b[1;32m      3\u001b[0m encoded_fast \u001b[38;5;241m=\u001b[39m t_fast\u001b[38;5;241m.\u001b[39mencode(text)\n\u001b[0;32m----> 4\u001b[0m \u001b[38;5;28;01massert\u001b[39;00m encoded_fast \u001b[38;5;241m==\u001b[39m encoded_original, \u001b[38;5;124mf\u001b[39m\u001b[38;5;124m\"\u001b[39m\u001b[38;5;124mFast encode error: \u001b[39m\u001b[38;5;132;01m{\u001b[39;00mlang\u001b[38;5;132;01m}\u001b[39;00m\u001b[38;5;124m - \u001b[39m\u001b[38;5;132;01m{\u001b[39;00mtext\u001b[38;5;132;01m}\u001b[39;00m\u001b[38;5;124m\"\u001b[39m\n\u001b[1;32m      5\u001b[0m decoded \u001b[38;5;241m=\u001b[39m original\u001b[38;5;241m.\u001b[39mdecode(encoded_original)\n\u001b[1;32m      6\u001b[0m decoded_fast \u001b[38;5;241m=\u001b[39m t_fast\u001b[38;5;241m.\u001b[39mdecode(encoded_fast, skip_special_tokens\u001b[38;5;241m=\u001b[39m\u001b[38;5;28;01mTrue\u001b[39;00m)\n",
      "\u001b[0;31mAssertionError\u001b[0m: Fast encode error: JavaScript - 'use strict';\n\nvar clear          = require('es5-ext/array/#/clear')\n  , eIndexOf       = require('es5-ext/array/#/e-index-of')\n  , setPrototypeOf = require('es5-ext/object/set-prototype-of')\n  , callable       = require('es5-ext/object/valid-callable')\n  , d              = require('d')\n  , ee             = require('event-emitter')\n  , Symbol         = require('es6-symbol')\n  , iterator       = require('es6-iterator/valid-iterable')\n  , forOf          = require('es6-iterator/for-of')\n  , Iterator       = require('./lib/iterator')\n  , isNative       = require('./is-native-implemented')\n\n  , call = Function.prototype.call, defineProperty = Object.defineProperty\n  , SetPoly, getValues;\n\nmodule.exports = SetPoly = function (/*iterable*/) {\n\tvar iterable = arguments[0];\n\tif (!(this instanceof SetPoly)) return new SetPoly(iterable);\n\tif (this.__setData__ !== undefined) {\n\t\tthrow new TypeError(this + \" cannot be reinitialized\");\n\t}\n\tif (iterable != null) iterator(iterable);\n\tdefineProperty(this, '__setData__', d('c', []));\n\tif (!iterable) return;\n\tforOf(iterable, function (value) {\n\t\tif (eIndexOf.call(this, value) !== -1) return;\n\t\tthis.push(value);\n\t}, this.__setData__);\n};\n\nif (isNative) {\n\tif (setPrototypeOf) setPrototypeOf(SetPoly, Set);\n\tSetPoly.prototype = Object.create(Set.prototype, {\n\t\tconstructor: d(SetPoly)\n\t});\n}\n\nee(Object.defineProperties(SetPoly.prototype, {\n\tadd: d(function (value) {\n\t\tif (this.has(value)) return this;\n\t\tthis.emit('_add', this.__setData__.push(value) - 1, value);\n\t\treturn this;\n\t}),\n\tclear: d(function () {\n\t\tif (!this.__setData__.length) return;\n\t\tclear.call(this.__setData__);\n\t\tthis.emit('_clear');\n\t}),\n\tdelete: d(function (value) {\n\t\tvar index = eIndexOf.call(this.__setData__, value);\n\t\tif (index === -1) return false;\n\t\tthis.__setData__.splice(index, 1);\n\t\tthis.emit('_delete', index, value);\n\t\treturn true;\n\t}),\n\tentries: d(function () { return new Iterator(this, 'key+value'); }),\n\tforEach: d(function (cb/*, thisArg*/) {\n\t\tvar thisArg = arguments[1], iterator, result, value;\n\t\tcallable(cb);\n\t\titerator = this.values();\n\t\tresult = iterator._next();\n\t\twhile (result !== undefined) {\n\t\t\tvalue = iterator._resolve(result);\n\t\t\tcall.call(cb, thisArg, value, value, this);\n\t\t\tresult = iterator._next();\n\t\t}\n\t}),\n\thas: d(function (value) {\n\t\treturn (eIndexOf.call(this.__setData__, value) !== -1);\n\t}),\n\tkeys: d(getValues = function () { return this.values(); }),\n\tsize: d.gs(function () { return this.__setData__.length; }),\n\tvalues: d(function () { return new Iterator(this); }),\n\ttoString: d(function () { return '[object Set]'; })\n}));\ndefineProperty(SetPoly.prototype, Symbol.iterator, d(getValues));\ndefineProperty(SetPoly.prototype, Symbol.toStringTag, d('c', 'Set'));\n"
     ]
    }
   ],
   "source": [
    "skipped = 0\n",
    "iterator = iter(ds)\n",
    "for _ in tqdm(range(1000)):\n",
    "    item = next(iterator)\n",
    "    code = item[\"code\"]\n",
    "    lang = item[\"language\"]\n",
    "    if False and item[\"size\"] > 1000:\n",
    "        skipped += 1\n",
    "        continue\n",
    "    verify(lang, code)"
   ]
  },
  {
   "cell_type": "code",
   "execution_count": 164,
   "id": "2f00432f",
   "metadata": {},
   "outputs": [],
   "source": [
    "encoded = original.encode(code)"
   ]
  },
  {
   "cell_type": "code",
   "execution_count": 165,
   "id": "8e85a5ed",
   "metadata": {},
   "outputs": [],
   "source": [
    "fast_encoded = t_fast.encode(code)"
   ]
  },
  {
   "cell_type": "code",
   "execution_count": 166,
   "id": "c4d82525",
   "metadata": {},
   "outputs": [
    {
     "data": {
      "text/plain": [
       "(784, 801)"
      ]
     },
     "execution_count": 166,
     "metadata": {},
     "output_type": "execute_result"
    }
   ],
   "source": [
    "len(encoded), len(fast_encoded)"
   ]
  },
  {
   "cell_type": "code",
   "execution_count": 167,
   "id": "6720f59f",
   "metadata": {},
   "outputs": [
    {
     "name": "stdout",
     "output_type": "stream",
     "text": [
      "Mismatch at 206: 133035 != 124108\n"
     ]
    }
   ],
   "source": [
    "for i, (x, y) in enumerate(zip(encoded, fast_encoded)):\n",
    "    if x != y:\n",
    "        print(f\"Mismatch at {i}: {x} != {y}\")\n",
    "        break"
   ]
  },
  {
   "cell_type": "code",
   "execution_count": 168,
   "id": "09467a20",
   "metadata": {},
   "outputs": [
    {
     "data": {
      "text/plain": [
       "' {\\n'"
      ]
     },
     "execution_count": 168,
     "metadata": {},
     "output_type": "execute_result"
    }
   ],
   "source": [
    "original.decode([133035])"
   ]
  },
  {
   "cell_type": "code",
   "execution_count": 169,
   "id": "015058da",
   "metadata": {},
   "outputs": [
    {
     "data": {
      "text/plain": [
       "' '"
      ]
     },
     "execution_count": 169,
     "metadata": {},
     "output_type": "execute_result"
    }
   ],
   "source": [
    "original.decode([124108])"
   ]
  },
  {
   "cell_type": "code",
   "execution_count": 172,
   "id": "234af02c",
   "metadata": {},
   "outputs": [
    {
     "data": {
      "text/plain": [
       "' {\\n'"
      ]
     },
     "execution_count": 172,
     "metadata": {},
     "output_type": "execute_result"
    }
   ],
   "source": [
    "t_fast.decode([133035])"
   ]
  },
  {
   "cell_type": "code",
   "execution_count": 173,
   "id": "7b7423e7",
   "metadata": {},
   "outputs": [
    {
     "data": {
      "text/plain": [
       "' '"
      ]
     },
     "execution_count": 173,
     "metadata": {},
     "output_type": "execute_result"
    }
   ],
   "source": [
    "t_fast.decode([124108])"
   ]
  },
  {
   "cell_type": "code",
   "execution_count": 212,
   "id": "35bba930",
   "metadata": {},
   "outputs": [
    {
     "data": {
      "text/plain": [
       "[133035]"
      ]
     },
     "execution_count": 212,
     "metadata": {},
     "output_type": "execute_result"
    }
   ],
   "source": [
    "original.encode(\" {\\n\")"
   ]
  },
  {
   "cell_type": "code",
   "execution_count": 213,
   "id": "463c3af6",
   "metadata": {},
   "outputs": [
    {
     "data": {
      "text/plain": [
       "[124108, 133081]"
      ]
     },
     "execution_count": 213,
     "metadata": {},
     "output_type": "execute_result"
    }
   ],
   "source": [
    "t_fast.encode(\" {\\n\")"
   ]
  },
  {
   "cell_type": "code",
   "execution_count": null,
   "id": "6a9356a3",
   "metadata": {},
   "outputs": [],
   "source": []
  }
 ],
 "metadata": {
  "kernelspec": {
   "display_name": "Python 3 (ipykernel)",
   "language": "python",
   "name": "python3"
  },
  "language_info": {
   "codemirror_mode": {
    "name": "ipython",
    "version": 3
   },
   "file_extension": ".py",
   "mimetype": "text/x-python",
   "name": "python",
   "nbconvert_exporter": "python",
   "pygments_lexer": "ipython3",
   "version": "3.10.12"
  }
 },
 "nbformat": 4,
 "nbformat_minor": 5
}
