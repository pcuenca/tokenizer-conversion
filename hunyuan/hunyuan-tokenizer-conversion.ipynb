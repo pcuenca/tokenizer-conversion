{
 "cells": [
  {
   "cell_type": "code",
   "execution_count": 1,
   "id": "d4558921-21ac-44cd-97f3-b83c04bd26ef",
   "metadata": {},
   "outputs": [
    {
     "name": "stdout",
     "output_type": "stream",
     "text": [
      "Downloaded\n"
     ]
    }
   ],
   "source": [
    "from huggingface_hub import snapshot_download\n",
    "\n",
    "snapshot_download(\n",
    "    \"mlx-community/Hunyuan-7B-Instruct-3bit\",\n",
    "    local_dir=\".\",\n",
    "    allow_patterns=[\"hy.tiktoken\", \"tokenization_hy.py\", \"tokenizer_config.json\", \"special_tokens_map.json\"]\n",
    ")\n",
    "print(\"Downloaded\")"
   ]
  },
  {
   "cell_type": "code",
   "execution_count": 2,
   "id": "571bf10a-351e-4075-850c-fa79aec347a3",
   "metadata": {},
   "outputs": [],
   "source": [
    "from tokenization_hy import *"
   ]
  },
  {
   "cell_type": "code",
   "execution_count": 3,
   "id": "9877f544-20cc-46bc-8f24-9a9584eef1e8",
   "metadata": {},
   "outputs": [],
   "source": [
    "original = HYTokenizer.from_pretrained(\".\")"
   ]
  },
  {
   "cell_type": "code",
   "execution_count": 4,
   "id": "22e0172b-df19-4443-857e-b94e35715bc9",
   "metadata": {},
   "outputs": [],
   "source": [
    "from transformers.convert_slow_tokenizer import TikTokenConverter"
   ]
  },
  {
   "cell_type": "code",
   "execution_count": 5,
   "id": "8ad837da-cba1-4570-9547-6a9b16723398",
   "metadata": {},
   "outputs": [],
   "source": [
    "converter = TikTokenConverter(\n",
    "    vocab_file=\"hy.tiktoken\",\n",
    "    pattern=PAT_STR,\n",
    "    additional_special_tokens=[t[1] for t in SPECIAL_TOKENS],\n",
    ")"
   ]
  },
  {
   "cell_type": "code",
   "execution_count": 6,
   "id": "f0431104-6fe3-4be4-a04e-8ff0ce4f02e6",
   "metadata": {},
   "outputs": [],
   "source": [
    "converted = converter.converted()"
   ]
  },
  {
   "cell_type": "code",
   "execution_count": 7,
   "id": "8c99b559-cd5c-41c3-afdf-1c82213fef0c",
   "metadata": {},
   "outputs": [],
   "source": [
    "from tokenizers import normalizers\n",
    "\n",
    "converted.normalizer = normalizers.NFC()"
   ]
  },
  {
   "cell_type": "code",
   "execution_count": 10,
   "id": "6abb65a1-de8e-4c6a-bd6c-cf6acdd7bca5",
   "metadata": {},
   "outputs": [],
   "source": [
    "from transformers import PreTrainedTokenizerFast\n",
    "\n",
    "t_fast = PreTrainedTokenizerFast(\n",
    "    tokenizer_object=converted,\n",
    "    model_input_names=original.model_input_names,\n",
    "    model_max_length=256*1024,\n",
    "    clean_up_tokenization_spaces=False,\n",
    ")"
   ]
  },
  {
   "cell_type": "code",
   "execution_count": 11,
   "id": "cb5ee39a-185a-45b6-a9af-dd19dcb2a5a2",
   "metadata": {},
   "outputs": [
    {
     "data": {
      "text/plain": [
       "[15339]"
      ]
     },
     "execution_count": 11,
     "metadata": {},
     "output_type": "execute_result"
    }
   ],
   "source": [
    "original.encode(\"hello\")"
   ]
  },
  {
   "cell_type": "code",
   "execution_count": 12,
   "id": "9def283c-9818-4be8-80da-1954749c4226",
   "metadata": {},
   "outputs": [
    {
     "data": {
      "text/plain": [
       "[15339]"
      ]
     },
     "execution_count": 12,
     "metadata": {},
     "output_type": "execute_result"
    }
   ],
   "source": [
    "t_fast.encode(\"hello\")"
   ]
  },
  {
   "cell_type": "code",
   "execution_count": 13,
   "id": "9ffb60fb-5edb-4855-aae3-e512c049eb1e",
   "metadata": {},
   "outputs": [
    {
     "data": {
      "text/plain": [
       "[5619, 94, 5619, 120]"
      ]
     },
     "execution_count": 13,
     "metadata": {},
     "output_type": "execute_result"
    }
   ],
   "source": [
    "original.encode(\"ड़\")"
   ]
  },
  {
   "cell_type": "code",
   "execution_count": 14,
   "id": "454043d8-ee85-47bc-a4d1-1d270df1c78f",
   "metadata": {},
   "outputs": [
    {
     "data": {
      "text/plain": [
       "[5619, 94, 5619, 120]"
      ]
     },
     "execution_count": 14,
     "metadata": {},
     "output_type": "execute_result"
    }
   ],
   "source": [
    "t_fast.encode(\"ड़\")"
   ]
  },
  {
   "cell_type": "code",
   "execution_count": 15,
   "id": "bb53de0b-e90e-40c4-b7e1-2c4a3ccb9cc0",
   "metadata": {},
   "outputs": [
    {
     "data": {
      "text/plain": [
       "(128166, '<|extra_204|>')"
      ]
     },
     "execution_count": 15,
     "metadata": {},
     "output_type": "execute_result"
    }
   ],
   "source": [
    "SPECIAL_TOKENS[-1]"
   ]
  },
  {
   "cell_type": "code",
   "execution_count": 16,
   "id": "550f0bd9-4ecd-461c-a25e-def6e9f0c8dc",
   "metadata": {},
   "outputs": [
    {
     "data": {
      "text/plain": [
       "[128166]"
      ]
     },
     "execution_count": 16,
     "metadata": {},
     "output_type": "execute_result"
    }
   ],
   "source": [
    "original.encode(SPECIAL_TOKENS[-1][-1])"
   ]
  },
  {
   "cell_type": "code",
   "execution_count": 17,
   "id": "49820e0f-2c5b-4d2a-94e8-e21afc8ca7c2",
   "metadata": {},
   "outputs": [
    {
     "data": {
      "text/plain": [
       "[128166]"
      ]
     },
     "execution_count": 17,
     "metadata": {},
     "output_type": "execute_result"
    }
   ],
   "source": [
    "t_fast.encode(SPECIAL_TOKENS[-1][-1])"
   ]
  },
  {
   "cell_type": "code",
   "execution_count": 18,
   "id": "4ef2d193-6c85-4640-8a9f-619b436f29ba",
   "metadata": {},
   "outputs": [],
   "source": [
    "from datasets import load_dataset\n",
    "from tqdm import tqdm"
   ]
  },
  {
   "cell_type": "code",
   "execution_count": 19,
   "id": "e91dc642-81bf-4677-b3a6-5fa040d64153",
   "metadata": {},
   "outputs": [
    {
     "name": "stderr",
     "output_type": "stream",
     "text": [
      "huggingface/tokenizers: The current process just got forked, after parallelism has already been used. Disabling parallelism to avoid deadlocks...\n",
      "To disable this warning, you can either:\n",
      "\t- Avoid using `tokenizers` before the fork if possible\n",
      "\t- Explicitly set the environment variable TOKENIZERS_PARALLELISM=(true | false)\n"
     ]
    }
   ],
   "source": [
    "xnli = load_dataset(\"xnli\", \"all_languages\", split=\"validation\")"
   ]
  },
  {
   "cell_type": "code",
   "execution_count": 20,
   "id": "7393f2bc-1c08-415d-977c-7116290a7b1f",
   "metadata": {},
   "outputs": [],
   "source": [
    "def verify(lang, text):\n",
    "    encoded_original = original.encode(text)\n",
    "    encoded_fast = t_fast.encode(text)\n",
    "    assert encoded_fast == encoded_original, f\"Fast encode error: {lang} - {text}\"\n",
    "    decoded = original.decode(encoded_original)\n",
    "    decoded_fast = t_fast.decode(encoded_fast, skip_special_tokens=True)\n",
    "    assert decoded_fast == decoded, f\"Fast decode error: {lang} - {text}\""
   ]
  },
  {
   "cell_type": "code",
   "execution_count": 21,
   "id": "e5a25a09-af5b-4441-887c-c2c9c834855e",
   "metadata": {},
   "outputs": [
    {
     "name": "stderr",
     "output_type": "stream",
     "text": [
      "100%|███████████████████████████████████████████████████████████████████████████████| 2490/2490 [00:05<00:00, 431.38it/s]\n"
     ]
    }
   ],
   "source": [
    "for p in tqdm(xnli[\"premise\"]):\n",
    "    for lang, text in p.items():\n",
    "        verify(lang, text)"
   ]
  },
  {
   "cell_type": "markdown",
   "id": "9b833339-bbc6-466b-a1af-5dad97a735af",
   "metadata": {},
   "source": [
    "Testing on codeparrot subset"
   ]
  },
  {
   "cell_type": "code",
   "execution_count": 22,
   "id": "98995a6b-221b-4e50-a8cd-4ec0fe58b2c3",
   "metadata": {},
   "outputs": [
    {
     "name": "stderr",
     "output_type": "stream",
     "text": [
      "huggingface/tokenizers: The current process just got forked, after parallelism has already been used. Disabling parallelism to avoid deadlocks...\n",
      "To disable this warning, you can either:\n",
      "\t- Avoid using `tokenizers` before the fork if possible\n",
      "\t- Explicitly set the environment variable TOKENIZERS_PARALLELISM=(true | false)\n"
     ]
    }
   ],
   "source": [
    "ds = load_dataset(\"codeparrot/github-code\", streaming=True, trust_remote_code=True, split=\"train\")"
   ]
  },
  {
   "cell_type": "code",
   "execution_count": 23,
   "id": "45c61e13-70f4-425b-a217-5fc0715b3bf2",
   "metadata": {},
   "outputs": [
    {
     "name": "stderr",
     "output_type": "stream",
     "text": [
      "100%|███████████████████████████████████████████████████████████████████████████████| 1000/1000 [00:06<00:00, 166.30it/s]\n"
     ]
    }
   ],
   "source": [
    "skipped = 0\n",
    "iterator = iter(ds)\n",
    "for _ in tqdm(range(1000)):\n",
    "    item = next(iterator)\n",
    "    code = item[\"code\"]\n",
    "    lang = item[\"language\"]\n",
    "    if False and item[\"size\"] > 1000:\n",
    "        skipped += 1\n",
    "        continue\n",
    "    verify(lang, code)"
   ]
  },
  {
   "cell_type": "code",
   "execution_count": 27,
   "id": "5de6f339-309f-4261-a9cd-95af8b312d00",
   "metadata": {},
   "outputs": [],
   "source": [
    "t_fast.chat_template = original.chat_template"
   ]
  },
  {
   "cell_type": "code",
   "execution_count": 28,
   "id": "cf50f683-ba13-4be6-a358-ead279cc992d",
   "metadata": {},
   "outputs": [
    {
     "data": {
      "application/vnd.jupyter.widget-view+json": {
       "model_id": "a193af5949e24629ac4a62808bffbfc6",
       "version_major": 2,
       "version_minor": 0
      },
      "text/plain": [
       "README.md: 0.00B [00:00, ?B/s]"
      ]
     },
     "metadata": {},
     "output_type": "display_data"
    },
    {
     "data": {
      "application/vnd.jupyter.widget-view+json": {
       "model_id": "a154b21ddb22429089fa7ed965fa0193",
       "version_major": 2,
       "version_minor": 0
      },
      "text/plain": [
       "Uploading...:   0%|          | 0.00/16.4M [00:00<?, ?B/s]"
      ]
     },
     "metadata": {},
     "output_type": "display_data"
    },
    {
     "data": {
      "text/plain": [
       "CommitInfo(commit_url='https://huggingface.co/pcuenq/Hunyuan-7B-Instruct-tokenizer/commit/201270fda5446f747ad4eb441d9645365ba4ba8e', commit_message='Upload tokenizer', commit_description='', oid='201270fda5446f747ad4eb441d9645365ba4ba8e', pr_url=None, repo_url=RepoUrl('https://huggingface.co/pcuenq/Hunyuan-7B-Instruct-tokenizer', endpoint='https://huggingface.co', repo_type='model', repo_id='pcuenq/Hunyuan-7B-Instruct-tokenizer'), pr_revision=None, pr_num=None)"
      ]
     },
     "execution_count": 28,
     "metadata": {},
     "output_type": "execute_result"
    }
   ],
   "source": [
    "t_fast.push_to_hub(\"Hunyuan-7B-Instruct-tokenizer\")"
   ]
  },
  {
   "cell_type": "code",
   "execution_count": null,
   "id": "0ea7ef05-5925-44e4-854b-077b2b3ec6b6",
   "metadata": {},
   "outputs": [],
   "source": []
  }
 ],
 "metadata": {
  "kernelspec": {
   "display_name": "Python 3 (ipykernel)",
   "language": "python",
   "name": "python3"
  },
  "language_info": {
   "codemirror_mode": {
    "name": "ipython",
    "version": 3
   },
   "file_extension": ".py",
   "mimetype": "text/x-python",
   "name": "python",
   "nbconvert_exporter": "python",
   "pygments_lexer": "ipython3",
   "version": "3.12.7"
  }
 },
 "nbformat": 4,
 "nbformat_minor": 5
}
